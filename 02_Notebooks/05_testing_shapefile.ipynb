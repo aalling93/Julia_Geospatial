{
 "cells": [
  {
   "cell_type": "markdown",
   "metadata": {},
   "source": [
    "# Working with Vector data"
   ]
  },
  {
   "cell_type": "markdown",
   "metadata": {},
   "source": [
    "https://github.com/yeesian/ArchGDAL.jl/blob/master/docs/src/features.md <br>\n",
    "https://github.com/JuliaGeo/Shapefile.jl"
   ]
  },
  {
   "cell_type": "markdown",
   "metadata": {},
   "source": [
    "I have focused on raster data in this git hub repo, but ArchGDAL does have some excellent support for vector operations. This notebook is only partially completed. While it does write out a point shapefile it does not write the projection (.prj) file. I hope it is of use. Please do refer to the links supplied in this notebook for further information. Please be aware at ArchGDAL may have upgraded a version."
   ]
  },
  {
   "cell_type": "code",
   "execution_count": 1,
   "metadata": {},
   "outputs": [
    {
     "name": "stdout",
     "output_type": "stream",
     "text": [
      "GDAL Dataset (Driver: ESRI Shapefile/ESRI Shapefile)\n",
      "File(s): \n",
      "  Boundary_isle.shp\n",
      "  Boundary_isle.shx\n",
      "  Boundary_isle.dbf\n",
      "  Boundary_isle.cpg\n",
      "  Boundary_isle.prj\n",
      "\n",
      "Number of feature layers: 1\n",
      "  Layer 0: Boundary_isle (wkbPolygon)\n",
      "\n",
      "ArchGDAL.Dataset\n"
     ]
    }
   ],
   "source": [
    "using ArchGDAL\n",
    "filepath = \"Boundary_isle.shp\"\n",
    "ArchGDAL.registerdrivers() do\n",
    "    ArchGDAL.read(filepath) do dataset\n",
    "        println(dataset)\n",
    "        println(typeof(dataset))\n",
    "    end\n",
    "end"
   ]
  },
  {
   "cell_type": "markdown",
   "metadata": {},
   "source": [
    "Investigate the data in the shapefile"
   ]
  },
  {
   "cell_type": "code",
   "execution_count": 2,
   "metadata": {},
   "outputs": [
    {
     "name": "stdout",
     "output_type": "stream",
     "text": [
      "how many fields?\n",
      "1\n"
     ]
    }
   ],
   "source": [
    "using ArchGDAL\n",
    "filepath = \"Boundary_isle.shp\"\n",
    "ArchGDAL.registerdrivers() do\n",
    "    ArchGDAL.read(filepath) do dataset\n",
    "        layer = ArchGDAL.getlayer(dataset, 0)\n",
    "        featuredefn = ArchGDAL.getlayerdefn(layer)\n",
    "        println(\"how many fields?\")\n",
    "        println(ArchGDAL.nfield(featuredefn))\n",
    "    end\n",
    "end"
   ]
  },
  {
   "cell_type": "markdown",
   "metadata": {},
   "source": [
    "we only have 1 field in this shapefile (note that field count is 1 but first field is 0) <br>\n",
    "ref :https://github.com/yeesian/ArchGDAL.jl/blob/master/docs/src/features.md"
   ]
  },
  {
   "cell_type": "code",
   "execution_count": 3,
   "metadata": {},
   "outputs": [
    {
     "name": "stdout",
     "output_type": "stream",
     "text": [
      "how many fields?\n",
      "1\n",
      "field name is?\n",
      "ID\n"
     ]
    }
   ],
   "source": [
    "using ArchGDAL\n",
    "filepath = \"Boundary_isle.shp\"\n",
    "ArchGDAL.registerdrivers() do\n",
    "    ArchGDAL.read(filepath) do dataset\n",
    "        layer = ArchGDAL.getlayer(dataset, 0)\n",
    "        featuredefn = ArchGDAL.getlayerdefn(layer)\n",
    "        println(\"how many fields?\")\n",
    "        println(ArchGDAL.nfield(featuredefn))\n",
    "        fielddefn = ArchGDAL.getfielddefn(featuredefn, 0)\n",
    "        println(\"field name is?\")\n",
    "        println(ArchGDAL.getname(fielddefn))\n",
    "            \n",
    "    end\n",
    "end"
   ]
  },
  {
   "cell_type": "markdown",
   "metadata": {},
   "source": [
    "If we did have multiple fields this is how to do it"
   ]
  },
  {
   "cell_type": "code",
   "execution_count": 4,
   "metadata": {},
   "outputs": [
    {
     "name": "stdout",
     "output_type": "stream",
     "text": [
      "how many fields?\n",
      "1\n",
      "field name is?\n",
      "ID\n"
     ]
    }
   ],
   "source": [
    "using ArchGDAL\n",
    "filepath = \"Boundary_isle.shp\"\n",
    "ArchGDAL.registerdrivers() do\n",
    "    ArchGDAL.read(filepath) do dataset\n",
    "        layer = ArchGDAL.getlayer(dataset, 0)\n",
    "        featuredefn = ArchGDAL.getlayerdefn(layer)\n",
    "        println(\"how many fields?\")\n",
    "        println(ArchGDAL.nfield(featuredefn))\n",
    "        for i = 0:((ArchGDAL.nfield(featuredefn))-1)\n",
    "            fielddefn = ArchGDAL.getfielddefn(featuredefn, i)\n",
    "            println(\"field name is?\")\n",
    "            println(ArchGDAL.getname(fielddefn))\n",
    "        end\n",
    "            \n",
    "    end\n",
    "end"
   ]
  },
  {
   "cell_type": "markdown",
   "metadata": {},
   "source": [
    "We only have 1 field and we only have 1 feature. If we wanted to get the geometry of that feature we would use this code"
   ]
  },
  {
   "cell_type": "code",
   "execution_count": 5,
   "metadata": {},
   "outputs": [
    {
     "name": "stdout",
     "output_type": "stream",
     "text": [
      "Geometry: POLYGON ((600140 5603280,600140 5626000,638610 562 ... 280))\n"
     ]
    }
   ],
   "source": [
    "using ArchGDAL\n",
    "filepath = \"Boundary_isle.shp\"\n",
    "ArchGDAL.registerdrivers() do\n",
    "    ArchGDAL.read(filepath) do dataset\n",
    "        layer = ArchGDAL.getlayer(dataset, 0)\n",
    "        ArchGDAL.getfeature(layer, 0) do feature\n",
    "        println(ArchGDAL.getgeomfield(feature, 0))\n",
    "        end\n",
    "    end\n",
    "end"
   ]
  },
  {
   "cell_type": "markdown",
   "metadata": {},
   "source": [
    "Now that we have the geometry we can peforming spatial processing. In the example below lets get the centroid. <br>\n",
    "ref: https://github.com/yeesian/ArchGDAL.jl/blob/master/docs/src/geometries.md"
   ]
  },
  {
   "cell_type": "code",
   "execution_count": 6,
   "metadata": {},
   "outputs": [
    {
     "name": "stdout",
     "output_type": "stream",
     "text": [
      "Geometry: POLYGON ((600140 5603280,600140 5626000,638610 562 ... 280))\n"
     ]
    },
    {
     "data": {
      "text/plain": [
       "Geometry: POINT (619375 5614640)"
      ]
     },
     "execution_count": 6,
     "metadata": {},
     "output_type": "execute_result"
    }
   ],
   "source": [
    "using ArchGDAL\n",
    "filepath = \"Boundary_isle.shp\"\n",
    "ArchGDAL.registerdrivers() do\n",
    "    ArchGDAL.read(filepath) do dataset\n",
    "        layer = ArchGDAL.getlayer(dataset, 0)\n",
    "        ArchGDAL.getfeature(layer, 0) do feature\n",
    "        geometry_pol = (ArchGDAL.getgeomfield(feature, 0))\n",
    "        println(geometry_pol)\n",
    "        ArchGDAL.centroid(geometry_pol)\n",
    "        end\n",
    "    end\n",
    "end"
   ]
  },
  {
   "cell_type": "markdown",
   "metadata": {},
   "source": [
    "Finally lets write this centroid out to a shapefile. I didn't find a way to write out a prj file with the associated .shp, .dbf .shx files. At the moment you will need to copy the prj from the input."
   ]
  },
  {
   "cell_type": "code",
   "execution_count": 7,
   "metadata": {},
   "outputs": [
    {
     "name": "stdout",
     "output_type": "stream",
     "text": [
      "Spatial Reference System: +proj=utm +zone=30 +datum=WGS84 +un ... defs \n",
      "Geometry: POLYGON ((600140 5603280,600140 5626000,638610 562 ... 280))\n",
      "Geometry: POINT (619375 5614640)\n"
     ]
    },
    {
     "data": {
      "text/plain": [
       "Ptr{Nothing} @0x0000000000000000"
      ]
     },
     "execution_count": 7,
     "metadata": {},
     "output_type": "execute_result"
    }
   ],
   "source": [
    "using ArchGDAL; const AG = ArchGDAL\n",
    "using GDAL\n",
    "filepath = \"Boundary_isle.shp\"\n",
    "    \n",
    "AG.registerdrivers() do\n",
    "    \n",
    "    AG.read(filepath) do dataset\n",
    "        layer2 = AG.getlayer(dataset, 0)\n",
    "        spatialref = AG.getspatialref(layer2)\n",
    "        println(spatialref)\n",
    "        \n",
    "        AG.getfeature(layer2, 0) do feature\n",
    "        geometry_pol = (AG.getgeomfield(feature, 0))\n",
    "        println(geometry_pol)\n",
    "        geom = AG.centroid(geometry_pol) ## get the centroid\n",
    "        println(geom)\n",
    "\n",
    "\n",
    "            AG.create(\"pointshapeOut.shp\", \"ESRI Shapefile\") do datasetOut\n",
    "                \n",
    "                layer = AG.createlayer(datasetOut, \"point_out\", geom=GDAL.wkbPoint)\n",
    "                \n",
    "                featuredefn = AG.getlayerdefn(layer)\n",
    "                geomfielddefn = ArchGDAL.getgeomfielddefn(featuredefn, 0)\n",
    "                AG.setspatialref!(geomfielddefn, spatialref)  ## doesn't seem to work?\n",
    "                \n",
    "            \n",
    "                AG.createfielddefn(\"Name\", GDAL.OFTString) do fielddefn\n",
    "                    AG.setwidth!(fielddefn, 32)\n",
    "                    AG.createfield!(layer, fielddefn, true)\n",
    "                end\n",
    "                \n",
    "                featuredefn = AG.getlayerdefn(layer)\n",
    "                               \n",
    "                AG.createfeature(featuredefn) do feature\n",
    "                    \n",
    "                    \n",
    "                    AG.setfield!(feature, AG.getfieldindex(feature, \"Name\"), \"centre point\")\n",
    "                                        \n",
    "                    AG.setgeomdirectly!(feature, AG.unsafe_createpoint(619375, 5614640)) ## hardcoded - need to change\n",
    "                    AG.createfeature!(layer, feature)\n",
    "                \n",
    "               \n",
    "                AG.destroy(feature)\n",
    "                end\n",
    "             \n",
    "end\n",
    "        end\n",
    "end\n",
    "end\n"
   ]
  }
 ],
 "metadata": {
  "kernelspec": {
   "display_name": "Julia 1.1.0",
   "language": "julia",
   "name": "julia-1.1"
  },
  "language_info": {
   "file_extension": ".jl",
   "mimetype": "application/julia",
   "name": "julia",
   "version": "1.1.0"
  }
 },
 "nbformat": 4,
 "nbformat_minor": 2
}
