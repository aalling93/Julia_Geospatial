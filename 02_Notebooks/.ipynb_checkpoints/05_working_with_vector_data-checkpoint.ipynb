{
 "cells": [
  {
   "cell_type": "markdown",
   "metadata": {},
   "source": [
    "# Working with Vector data \n",
    "### Updated for Julia 1.7.0"
   ]
  },
  {
   "cell_type": "markdown",
   "metadata": {},
   "source": [
    "https://github.com/yeesian/ArchGDAL.jl/blob/master/docs/src/features.md <br>\n",
    "https://github.com/JuliaGeo/Shapefile.jl"
   ]
  },
  {
   "cell_type": "markdown",
   "metadata": {},
   "source": [
    "I have focused on raster data in this git hub repo, but ArchGDAL does have some excellent support for vector operations. This notebook completed 2021! I hope it is of use. Please do refer to the links supplied in this notebook for further information. Please be aware at ArchGDAL may have upgraded a version."
   ]
  },
  {
   "cell_type": "code",
   "execution_count": 1,
   "metadata": {},
   "outputs": [
    {
     "name": "stdout",
     "output_type": "stream",
     "text": [
      "GDAL Dataset (Driver: ESRI Shapefile/ESRI Shapefile)\n",
      "File(s): \n",
      "  D:/Julia_Geospatial/04_Shapefiles/Boundary_isle.shp\n",
      "  D:/Julia_Geospatial/04_Shapefiles/Boundary_isle.shx\n",
      "  D:/Julia_Geospatial/04_Shapefiles/Boundary_isle.dbf\n",
      "  D:/Julia_Geospatial/04_Shapefiles/Boundary_isle.cpg\n",
      "  D:/Julia_Geospatial/04_Shapefiles/Boundary_isle.prj\n",
      "\n",
      "Number of feature layers: 1\n",
      "  Layer 0: Boundary_isle (wkbPolygon)\n",
      "\n",
      "ArchGDAL.Dataset\n"
     ]
    }
   ],
   "source": [
    "using ArchGDAL\n",
    "filepath = \"D:/Julia_Geospatial/04_Shapefiles/Boundary_isle.shp\"\n",
    "ArchGDAL.read(filepath) do dataset\n",
    "    println(dataset)\n",
    "    println(typeof(dataset))\n",
    "end"
   ]
  },
  {
   "cell_type": "markdown",
   "metadata": {},
   "source": [
    "Investigate the data in the shapefile"
   ]
  },
  {
   "cell_type": "code",
   "execution_count": 2,
   "metadata": {},
   "outputs": [
    {
     "name": "stdout",
     "output_type": "stream",
     "text": [
      "how many fields?\n",
      "1\n"
     ]
    }
   ],
   "source": [
    "using ArchGDAL\n",
    "filepath = \"D:/Julia_Geospatial/04_Shapefiles/Boundary_isle.shp\"\n",
    "ArchGDAL.read(filepath) do dataset\n",
    "    layer = ArchGDAL.getlayer(dataset, 0)\n",
    "    println(\"how many fields?\")\n",
    "    println(ArchGDAL.nfeature(layer))\n",
    "    end\n"
   ]
  },
  {
   "cell_type": "markdown",
   "metadata": {},
   "source": [
    "we only have 1 field in this shapefile (note that field count is 1 but first field is 0) <br>\n",
    "ref :https://github.com/yeesian/ArchGDAL.jl/blob/master/docs/src/features.md"
   ]
  },
  {
   "cell_type": "code",
   "execution_count": 3,
   "metadata": {},
   "outputs": [
    {
     "name": "stdout",
     "output_type": "stream",
     "text": [
      "how many fields?\n",
      "1\n",
      "field name is?\n",
      "ID\n"
     ]
    }
   ],
   "source": [
    "using ArchGDAL\n",
    "filepath = \"D:/Julia_Geospatial/04_Shapefiles/Boundary_isle.shp\"\n",
    "\n",
    "ArchGDAL.read(filepath) do dataset\n",
    "    layer = ArchGDAL.getlayer(dataset, 0)\n",
    "    println(\"how many fields?\")\n",
    "    println(ArchGDAL.nfeature(layer))\n",
    "    featuredefn = ArchGDAL.layerdefn(layer)\n",
    "    fielddefn = ArchGDAL.getfielddefn(featuredefn, 0)\n",
    "    println(\"field name is?\")\n",
    "    println(ArchGDAL.getname(fielddefn))\n",
    "\n",
    "end\n"
   ]
  },
  {
   "cell_type": "markdown",
   "metadata": {},
   "source": [
    "If we did have multiple fields this is how to do it"
   ]
  },
  {
   "cell_type": "code",
   "execution_count": 4,
   "metadata": {},
   "outputs": [
    {
     "name": "stdout",
     "output_type": "stream",
     "text": [
      "how many fields?\n",
      "1\n",
      "field name is?\n",
      "ID\n"
     ]
    }
   ],
   "source": [
    "using ArchGDAL\n",
    "filepath = \"D:/Julia_Geospatial/04_Shapefiles/Boundary_isle.shp\"\n",
    "\n",
    "ArchGDAL.read(filepath) do dataset\n",
    "    layer = ArchGDAL.getlayer(dataset, 0)\n",
    "    featuredefn = ArchGDAL.layerdefn(layer)\n",
    "    println(\"how many fields?\")\n",
    "    println(ArchGDAL.nfield(featuredefn))\n",
    "    for i = 0:((ArchGDAL.nfield(featuredefn))-1)\n",
    "        fielddefn = ArchGDAL.getfielddefn(featuredefn, i)\n",
    "        println(\"field name is?\")\n",
    "        println(ArchGDAL.getname(fielddefn))\n",
    "    end\n",
    "            \n",
    "\n",
    "end"
   ]
  },
  {
   "cell_type": "markdown",
   "metadata": {},
   "source": [
    "We only have 1 field and we only have 1 feature. If we wanted to get the geometry of that feature we would use this code"
   ]
  },
  {
   "cell_type": "code",
   "execution_count": 5,
   "metadata": {},
   "outputs": [
    {
     "name": "stdout",
     "output_type": "stream",
     "text": [
      "Geometry: POLYGON ((600140 5603280,600140 5626000,638610 562 ... 280))\n"
     ]
    }
   ],
   "source": [
    "using ArchGDAL\n",
    "filepath = \"D:/Julia_Geospatial/04_Shapefiles/Boundary_isle.shp\"\n",
    "ArchGDAL.read(filepath) do dataset\n",
    "    layer = ArchGDAL.getlayer(dataset, 0)\n",
    "    ArchGDAL.getfeature(layer, 0) do feature\n",
    "        println(ArchGDAL.getgeom(feature, 0))\n",
    "    end\n",
    "end"
   ]
  },
  {
   "cell_type": "markdown",
   "metadata": {},
   "source": [
    "Now that we have the geometry we can peforming spatial processing. In the example below lets get the centroid. <br>\n",
    "ref: https://github.com/yeesian/ArchGDAL.jl/blob/master/docs/src/geometries.md"
   ]
  },
  {
   "cell_type": "code",
   "execution_count": 6,
   "metadata": {},
   "outputs": [
    {
     "name": "stdout",
     "output_type": "stream",
     "text": [
      "Geometry: POLYGON ((600140 5603280,600140 5626000,638610 562 ... 280))\n"
     ]
    },
    {
     "data": {
      "text/plain": [
       "Geometry: POINT (619375 5614640)"
      ]
     },
     "execution_count": 6,
     "metadata": {},
     "output_type": "execute_result"
    }
   ],
   "source": [
    "using ArchGDAL\n",
    "filepath = \"D:/Julia_Geospatial/04_Shapefiles/Boundary_isle.shp\"\n",
    "ArchGDAL.read(filepath) do dataset\n",
    "    layer = ArchGDAL.getlayer(dataset, 0)\n",
    "    ArchGDAL.getfeature(layer, 0) do feature\n",
    "    geometry_pol = (ArchGDAL.getgeom(feature, 0))\n",
    "    println(geometry_pol)\n",
    "    ArchGDAL.centroid(geometry_pol)\n",
    "    end\n",
    "end"
   ]
  },
  {
   "cell_type": "markdown",
   "metadata": {},
   "source": [
    "Finally lets write this centroid out to a shapefile. I didn't find a way to write out a prj file with the associated .shp, .dbf .shx files. At the moment you will need to copy the prj from the input."
   ]
  },
  {
   "cell_type": "code",
   "execution_count": 7,
   "metadata": {},
   "outputs": [
    {
     "name": "stdout",
     "output_type": "stream",
     "text": [
      "Spatial Reference System: +proj=utm +zone=30 +datum=WGS84 +un ... _defs\n",
      "Geometry: POLYGON ((600140 5603280,600140 5626000,638610 562 ... 280))\n",
      "Geometry: POINT (619375 5614640)\n"
     ]
    }
   ],
   "source": [
    "using ArchGDAL; const AG = ArchGDAL\n",
    "using GDAL\n",
    "filepath = \"D:/Julia_Geospatial/04_Shapefiles/Boundary_isle.shp\"\n",
    "\n",
    "AG.read(filepath) do dataset\n",
    "    layer2 = AG.getlayer(dataset, 0)\n",
    "    spatialref = AG.getspatialref(layer2)\n",
    "    println(spatialref)\n",
    "\n",
    "    AG.getfeature(layer2, 0) do feature\n",
    "    geometry_pol = (AG.getgeom(feature, 0))\n",
    "    println(geometry_pol)\n",
    "    geom = AG.centroid(geometry_pol) ## get the centroid\n",
    "    println(geom)\n",
    "    end\n",
    "end\n"
   ]
  },
  {
   "cell_type": "markdown",
   "metadata": {},
   "source": [
    "example to create a point"
   ]
  },
  {
   "cell_type": "code",
   "execution_count": 10,
   "metadata": {},
   "outputs": [],
   "source": [
    "\n",
    "ArchGDAL.create(\n",
    "        \"D:/Julia_Geospatial/04_Shapefiles/pointsout.shp\",\n",
    "        driver = ArchGDAL.getdriver(\"ESRI Shapefile\")\n",
    "    ) do ds\n",
    "    ArchGDAL.createlayer(\n",
    "            geom = ArchGDAL.wkbPoint,\n",
    "            spatialref = ArchGDAL.importEPSG(32630)\n",
    "        ) do layer\n",
    "        \n",
    "        ArchGDAL.createfeature(layer) do f\n",
    "            ArchGDAL.setgeom!(f, ArchGDAL.createpoint(619375, 5614640))## hardcoded - need to change)\n",
    "        end\n",
    "        \n",
    "        ArchGDAL.copy(layer, dataset = ds)\n",
    "    end\n",
    "end;"
   ]
  },
  {
   "cell_type": "markdown",
   "metadata": {},
   "source": [
    "Brining it all together"
   ]
  },
  {
   "cell_type": "code",
   "execution_count": 3,
   "metadata": {},
   "outputs": [
    {
     "name": "stdout",
     "output_type": "stream",
     "text": [
      "Spatial Reference System: +proj=utm +zone=30 +datum=WGS84 +un ... _defs\n",
      "Geometry: POLYGON ((600140 5603280,600140 5626000,638610 562 ... 280))\n"
     ]
    }
   ],
   "source": [
    "using ArchGDAL; const AG = ArchGDAL\n",
    "using GDAL\n",
    "filepath = \"D:/Julia_Geospatial/04_Shapefiles/Boundary_isle.shp\"\n",
    "\n",
    "AG.read(filepath) do dataset\n",
    "    layer2 = AG.getlayer(dataset, 0)\n",
    "    spatialref = AG.getspatialref(layer2)\n",
    "    println(spatialref)\n",
    "\n",
    "    AG.getfeature(layer2, 0) do feature\n",
    "    geometry_pol = (AG.getgeom(feature, 0))\n",
    "    println(geometry_pol)\n",
    "    geom = AG.centroid(geometry_pol) ## get the centroid\n",
    "    typeof(geom)\n",
    "    x = AG.getx(geom, 0)\n",
    "    y = AG.gety(geom, 0)\n",
    "        \n",
    "        \n",
    "        AG.create(\n",
    "        \"D:/Julia_Geospatial/04_Shapefiles/centroid.shp\",driver = AG.getdriver(\"ESRI Shapefile\")) do ds\n",
    "        AG.createlayer(\n",
    "                geom = AG.wkbPoint,\n",
    "                spatialref = AG.importEPSG(32630)) do layer\n",
    "\n",
    "                AG.createfeature(layer) do f\n",
    "                    AG.setgeom!(f, AG.createpoint(x,y))\n",
    "                end\n",
    "\n",
    "            AG.copy(layer, dataset = ds)\n",
    "                AG.destroy(feature)\n",
    "        end\n",
    "        end\n",
    "    \n",
    "    end\n",
    "end"
   ]
  },
  {
   "cell_type": "code",
   "execution_count": null,
   "metadata": {},
   "outputs": [],
   "source": []
  }
 ],
 "metadata": {
  "kernelspec": {
   "display_name": "Julia 1.7.0",
   "language": "julia",
   "name": "julia-1.7"
  },
  "language_info": {
   "file_extension": ".jl",
   "mimetype": "application/julia",
   "name": "julia",
   "version": "1.7.0"
  }
 },
 "nbformat": 4,
 "nbformat_minor": 2
}
